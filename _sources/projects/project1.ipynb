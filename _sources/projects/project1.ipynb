{
 "cells": [
  {
   "cell_type": "markdown",
   "id": "b9dcd0a1",
   "metadata": {},
   "source": [
    "# Project 1\n",
    "\n",
    "Content coming soon.\n"
   ]
  }
 ],
 "metadata": {
  "language_info": {
   "name": "python"
  }
 },
 "nbformat": 4,
 "nbformat_minor": 5
}
