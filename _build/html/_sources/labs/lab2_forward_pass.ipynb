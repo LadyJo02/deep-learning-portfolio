{
 "cells": [
  {
   "cell_type": "markdown",
   "id": "2dc0e788",
   "metadata": {},
   "source": [
    "# Laboratory Task 2 – Forward Pass"
   ]
  },
  {
   "cell_type": "code",
   "execution_count": null,
   "id": "abeed3a0",
   "metadata": {},
   "outputs": [],
   "source": [
    "#import necessary libraries\n",
    "import numpy as np"
   ]
  },
  {
   "cell_type": "code",
   "execution_count": 4,
   "id": "10a2d5ed",
   "metadata": {},
   "outputs": [
    {
     "name": "stdout",
     "output_type": "stream",
     "text": [
      "Hidden layer outputs: [0.  0.1]\n",
      "Predicted output (y_hat): 0.08\n",
      "Error (y - y_hat): 0.92\n",
      "MSE: 0.8464\n"
     ]
    }
   ],
   "source": [
    "# Input and target\n",
    "x = np.array([1, 0, 1])\n",
    "y = 1\n",
    "\n",
    "# Weights and biases\n",
    "W_hidden = np.array([[0.2, -0.3],\n",
    "                     [0.4,  0.1],\n",
    "                     [-0.5, 0.2]])\n",
    "\n",
    "b_hidden = np.array([-0.4, 0.2])\n",
    "\n",
    "W_out = np.array([-0.3, -0.2])\n",
    "b_out = 0.1\n",
    "\n",
    "# ReLU function\n",
    "relu = lambda z: np.maximum(0, z)\n",
    "\n",
    "# Forward pass\n",
    "Z_hidden = x @ W_hidden + b_hidden\n",
    "H = relu(Z_hidden)\n",
    "\n",
    "Z_out = H @ W_out + b_out\n",
    "y_hat = relu(Z_out)\n",
    "\n",
    "# Error\n",
    "error = y - y_hat\n",
    "mse = error**2\n",
    "\n",
    "print(\"Hidden layer outputs:\", H)\n",
    "print(\"Predicted output (y_hat):\", y_hat)\n",
    "print(\"Error (y - y_hat):\", error)\n",
    "print(\"MSE:\", mse)"
   ]
  },
  {
   "cell_type": "code",
   "execution_count": null,
   "id": "5c46afd1",
   "metadata": {},
   "outputs": [
    {
     "name": "stdout",
     "output_type": "stream",
     "text": [
      "x shape: (3,) W_hidden shape: (3, 2) b_hidden shape: (2,)\n",
      "Z_hidden (pre-activation): [-0.7  0.1]\n",
      "H (hidden activations after ReLU): [0.  0.1]\n",
      "Z_out (pre-activation): 0.08\n",
      "y_hat (after ReLU): 0.08\n",
      "Error (y - y_hat): 0.92\n",
      "MSE: 0.8464\n"
     ]
    },
    {
     "data": {
      "image/png": "[encoded data removed]",
      "text/plain": [
       "<Figure size 400x300 with 1 Axes>"
      ]
     },
     "metadata": {},
     "output_type": "display_data"
    },
    {
     "name": "stdout",
     "output_type": "stream",
     "text": [
      "Saved plot to: images\\lab2_hidden_activations.png\n"
     ]
    }
   ],
   "source": [
    "# Additional code for plotting and saving the hidden layer activations\n",
    "import matplotlib.pyplot as plt\n",
    "from pathlib import Path\n",
    "\n",
    "# Create images dir\n",
    "Path(\"images\").mkdir(exist_ok=True)\n",
    "\n",
    "# Input and target\n",
    "x = np.array([1.0, 0.0, 1.0])\n",
    "y = 1.0\n",
    "\n",
    "# Weights and biases\n",
    "W_hidden = np.array([[0.2, -0.3],\n",
    "                     [0.4,  0.1],\n",
    "                     [-0.5, 0.2]])   # shape (3,2)\n",
    "b_hidden = np.array([-0.4, 0.2])      # shape (2,)\n",
    "\n",
    "W_out = np.array([-0.3, -0.2])        # shape (2,)\n",
    "b_out = 0.1\n",
    "\n",
    "# ReLU function\n",
    "def relu(z):\n",
    "    return np.maximum(0, z)\n",
    "\n",
    "# Forward pass - hidden\n",
    "Z_hidden = x @ W_hidden + b_hidden   # (2,)\n",
    "H = relu(Z_hidden)\n",
    "\n",
    "# Forward pass - output\n",
    "Z_out = H @ W_out + b_out\n",
    "y_hat = relu(Z_out)\n",
    "\n",
    "# Error and MSE\n",
    "error = y - y_hat\n",
    "mse = (error)**2\n",
    "\n",
    "# Print intermediate values\n",
    "print(\"x shape:\", x.shape, \"W_hidden shape:\", W_hidden.shape, \"b_hidden shape:\", b_hidden.shape)\n",
    "print(\"Z_hidden (pre-activation):\", np.round(Z_hidden, 4))\n",
    "print(\"H (hidden activations after ReLU):\", np.round(H, 4))\n",
    "print(\"Z_out (pre-activation):\", np.round(Z_out, 4))\n",
    "print(\"y_hat (after ReLU):\", np.round(y_hat, 4))\n",
    "print(\"Error (y - y_hat):\", np.round(error, 4))\n",
    "print(\"MSE:\", np.round(mse, 6))\n",
    "\n",
    "# Plot hidden activations\n",
    "neurons = [\"h1\", \"h2\"]\n",
    "plt.figure(figsize=(4,3))\n",
    "plt.bar(neurons, H)\n",
    "plt.title(\"Hidden Layer Activations (ReLU)\")\n",
    "plt.ylabel(\"Activation value\")\n",
    "plt.ylim(0, max(0.2, H.max() + 0.05))\n",
    "for i, v in enumerate(H):\n",
    "    plt.text(i, v + 0.01, f\"{v:.3f}\", ha='center')\n",
    "plt.tight_layout()\n",
    "img_path = Path(\"images\") / \"lab2_hidden_activations.png\"\n",
    "plt.savefig(img_path, dpi=150)\n",
    "plt.show()\n",
    "print(f\"Saved plot to: {img_path}\")"
   ]
  },
  {
   "cell_type": "markdown",
   "id": "15f68788",
   "metadata": {},
   "source": [
    "### Reflection\n",
    "In this lab, I implemented a manual forward pass of a small neural network.  \n",
    "- ReLU zeroes negative pre-activations; here `H = [0.0, 0.1]`, so the first hidden neuron was inactive.\n",
    "- The network's single forward pass produced `ŷ = 0.08` with error `0.92` (MSE ≈ 0.8464).  \n",
    "- This result is expected with random-looking initial weights — training with backpropagation is required to update weights and reduce error.  \n",
    "- Next lab: implement backward propagation to compute gradients and update weights."
   ]
  }
 ],
 "metadata": {
  "kernelspec": {
   "display_name": "Python 3",
   "language": "python",
   "name": "python3"
  },
  "language_info": {
   "codemirror_mode": {
    "name": "ipython",
    "version": 3
   },
   "file_extension": ".py",
   "mimetype": "text/x-python",
   "name": "python",
   "nbconvert_exporter": "python",
   "pygments_lexer": "ipython3",
   "version": "3.13.7"
  }
 },
 "nbformat": 4,
 "nbformat_minor": 5
}
