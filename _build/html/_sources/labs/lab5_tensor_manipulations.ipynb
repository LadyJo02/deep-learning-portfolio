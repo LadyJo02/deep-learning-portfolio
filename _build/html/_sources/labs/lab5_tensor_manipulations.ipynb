{
 "cells": [
  {
   "cell_type": "markdown",
   "id": "63646bda",
   "metadata": {},
   "source": [
    "# Laboratory Task 5 – Tensor Manipulations"
   ]
  },
  {
   "cell_type": "code",
   "execution_count": 1,
   "id": "b708ba66",
   "metadata": {},
   "outputs": [],
   "source": [
    "# 1. Standard Imports\n",
    "import torch\n",
    "import numpy as np\n",
    "import matplotlib.pyplot as plt"
   ]
  },
  {
   "cell_type": "code",
   "execution_count": 2,
   "id": "635218c4",
   "metadata": {},
   "outputs": [],
   "source": [
    "# 2. Create the set_seed function\n",
    "def set_seed(seed: int):\n",
    "    \"\"\"Sets the random seed for PyTorch and NumPy.\"\"\"\n",
    "    torch.manual_seed(seed)\n",
    "    np.random.seed(seed)"
   ]
  },
  {
   "cell_type": "code",
   "execution_count": 4,
   "id": "efc814d8",
   "metadata": {},
   "outputs": [
    {
     "name": "stdout",
     "output_type": "stream",
     "text": [
      "NumPy array 'arr': [3 4 2 4 4 1]\n",
      "\n"
     ]
    }
   ],
   "source": [
    "# 3. Create a seeded NumPy array\n",
    "set_seed(42)\n",
    "arr = np.random.randint(0, 5, size=6)\n",
    "print(f\"NumPy array 'arr': {arr}\\n\")"
   ]
  },
  {
   "cell_type": "code",
   "execution_count": 6,
   "id": "e561f2d9",
   "metadata": {},
   "outputs": [
    {
     "name": "stdout",
     "output_type": "stream",
     "text": [
      "Tensor 'x': tensor([3, 4, 2, 4, 4, 1], dtype=torch.int32)\n",
      "\n"
     ]
    }
   ],
   "source": [
    "# 4. Create a tensor 'x'\n",
    "x = torch.from_numpy(arr)\n",
    "print(f\"Tensor 'x': {x}\\n\")"
   ]
  },
  {
   "cell_type": "code",
   "execution_count": 7,
   "id": "40a1087a",
   "metadata": {},
   "outputs": [
    {
     "name": "stdout",
     "output_type": "stream",
     "text": [
      "Dtype of 'x': torch.int64\n",
      "\n"
     ]
    }
   ],
   "source": [
    "# 5. Change dtype to int64\n",
    "x = x.to(torch.int64)\n",
    "print(f\"Dtype of 'x': {x.dtype}\\n\")"
   ]
  },
  {
   "cell_type": "code",
   "execution_count": 9,
   "id": "0344d800",
   "metadata": {},
   "outputs": [
    {
     "name": "stdout",
     "output_type": "stream",
     "text": [
      "Reshaped 'x' (3x2):\n",
      "tensor([[3, 4],\n",
      "        [2, 4],\n",
      "        [4, 1]])\n",
      "\n"
     ]
    }
   ],
   "source": [
    "# 6. Reshape x into a 3x2 tensor\n",
    "x_reshaped = x.reshape(3, 2)\n",
    "print(f\"Reshaped 'x' (3x2):\\n{x_reshaped}\\n\")"
   ]
  },
  {
   "cell_type": "code",
   "execution_count": 10,
   "id": "c2071864",
   "metadata": {},
   "outputs": [
    {
     "name": "stdout",
     "output_type": "stream",
     "text": [
      "Right-hand column: tensor([4, 4, 1])\n",
      "\n"
     ]
    }
   ],
   "source": [
    "# 7. Get the right-hand column\n",
    "right_column = x_reshaped[:, 1]\n",
    "print(f\"Right-hand column: {right_column}\\n\")"
   ]
  },
  {
   "cell_type": "code",
   "execution_count": 11,
   "id": "7431add2",
   "metadata": {},
   "outputs": [
    {
     "name": "stdout",
     "output_type": "stream",
     "text": [
      "Squared values:\n",
      "tensor([[ 9, 16],\n",
      "        [ 4, 16],\n",
      "        [16,  1]])\n",
      "\n"
     ]
    }
   ],
   "source": [
    "# 8. Get square values\n",
    "x_squared = x_reshaped ** 2\n",
    "print(f\"Squared values:\\n{x_squared}\\n\")"
   ]
  },
  {
   "cell_type": "code",
   "execution_count": 12,
   "id": "064d1fae",
   "metadata": {},
   "outputs": [
    {
     "name": "stdout",
     "output_type": "stream",
     "text": [
      "Tensor 'y' (2x3):\n",
      "tensor([[2, 2, 1],\n",
      "        [4, 1, 0]])\n",
      "\n"
     ]
    }
   ],
   "source": [
    "# 9. Create tensor y for matrix multiplication\n",
    "set_seed(42)\n",
    "y = torch.randint(0, 5, (2, 3), dtype=torch.int64)\n",
    "print(f\"Tensor 'y' (2x3):\\n{y}\\n\")"
   ]
  },
  {
   "cell_type": "code",
   "execution_count": 13,
   "id": "736b36aa",
   "metadata": {},
   "outputs": [
    {
     "name": "stdout",
     "output_type": "stream",
     "text": [
      "Matrix product of x and y:\n",
      "tensor([[22, 10,  3],\n",
      "        [20,  8,  2],\n",
      "        [12,  9,  4]])\n",
      "\n"
     ]
    }
   ],
   "source": [
    "# 10. Find the matrix product\n",
    "matrix_product = torch.matmul(x_reshaped, y)\n",
    "print(f\"Matrix product of x and y:\\n{matrix_product}\\n\")"
   ]
  },
  {
   "cell_type": "markdown",
   "id": "f74054be",
   "metadata": {},
   "source": [
    "### Reflection\n",
    "* Deep learning is fundamentally about performing mathematical operations on multi-dimensional arrays, or **tensors**.\n",
    "\n",
    "* This lab covers the essential \"data wrangling\" skills required for any deep learning task, such as creating tensors, changing their data types `(dtype)`, and altering their shape `(reshape)`.\n",
    "\n",
    "* Mastering tensor operations like selecting specific elements (slicing) and performing matrix multiplication is a critical prerequisite for building any neural network."
   ]
  }
 ],
 "metadata": {
  "kernelspec": {
   "display_name": "Python 3",
   "language": "python",
   "name": "python3"
  },
  "language_info": {
   "codemirror_mode": {
    "name": "ipython",
    "version": 3
   },
   "file_extension": ".py",
   "mimetype": "text/x-python",
   "name": "python",
   "nbconvert_exporter": "python",
   "pygments_lexer": "ipython3",
   "version": "3.13.7"
  }
 },
 "nbformat": 4,
 "nbformat_minor": 5
}
