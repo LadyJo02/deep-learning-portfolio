{
 "cells": [
  {
   "cell_type": "markdown",
   "id": "b9dcd0a1",
   "metadata": {},
   "source": [
    "# Project 1\n",
    "\n",
    "Content coming soon.\n"
   ]
  }
 ],
 "metadata": {
  "language_info": {
   "codemirror_mode": {
    "name": "ipython",
    "version": 3
   },
   "file_extension": ".py",
   "mimetype": "text/x-python",
   "name": "python",
   "nbconvert_exporter": "python",
   "pygments_lexer": "ipython3",
   "version": "3.13.7"
  }
 },
 "nbformat": 4,
 "nbformat_minor": 5
}